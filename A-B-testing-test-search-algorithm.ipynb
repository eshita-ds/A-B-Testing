{
 "cells": [
  {
   "cell_type": "markdown",
   "id": "ca6ae316",
   "metadata": {},
   "source": [
    "# A/B Testing: Impact of Search Ranking Algorithm on Booking Conversion\n",
    "\n",
    "Includes:\n",
    "\n",
    "Cleaned markdown for each section (Problem, Metrics, Decision)\n",
    "\n",
    "scipy-based statistical tests\n",
    "\n",
    "90% confidence level logic (α = 0.10)\n",
    "\n",
    "Effect size calculations\n",
    "\n",
    "Rollout decision automation"
   ]
  },
  {
   "cell_type": "markdown",
   "id": "6a3810f0",
   "metadata": {},
   "source": [
    "<img src=\"ab_testing_image.jpg\" width=\"70%\">"
   ]
  },
  {
   "cell_type": "markdown",
   "id": "f471f523",
   "metadata": {},
   "source": [
    "## Problem Statement\n",
    "\n",
    "We aim to evaluate the impact of a new search ranking algorithm on conversion rates for a travel booking platform.\n",
    "\n",
    "- **Primary Metric**: Conversion Rate (% sessions that result in a booking)\n",
    "- **Guardrail Metric**: Time to Booking (in minutes)\n",
    "\n",
    "We compare users exposed to the control vs. variant algorithm to determine:\n",
    "1. Is there a statistically significant improvement in conversion?\n",
    "2. Does the new algorithm negatively impact the time to booking?\n",
    "\n",
    "The Product team will approve rollout only if:\n",
    "- Conversion rate **increases significantly**, AND\n",
    "- Time to booking does **not increase significantly**\n",
    "\n",
    "This will be Full on criteria\n"
   ]
  },
  {
   "cell_type": "markdown",
   "id": "2f65412a-89d7-4e97-887b-e9a053c77fb3",
   "metadata": {},
   "source": [
    "## `sessions_data.csv`\n",
    "\n",
    "| column | data type | description | \n",
    "|--------|-----------|-------------|\n",
    "| `session_id` | `string` | Unique session identifier (unique for each row) |\n",
    "| `user_id` | `string` | Unique user identifier (non logged-in users have missing user_id values; each user can have multiple sessions) |\n",
    "| `session_start_timestamp` | `string` | When a session started |\n",
    "| `booking_timestamp` | `string` | When a booking was made (missing if no booking was made during a session) |\n",
    "| `time_to_booking` | `float` | time from start of the session to booking, in minutes (missing if no booking was made during a session) |\n",
    "| `conversion` | `integer` | _New column to create:_ did session end up with a booking (0 if booking_timestamp or time_to_booking is Null, otherwise 1) |\n",
    "\n",
    "<br>\n",
    "\n",
    "## `users_data.csv`\n",
    "\n",
    "| column | data type | description | \n",
    "|--------|-----------|-------------|\n",
    "| `user_id` | `string` | Unique user identifier (only logged-in users in this table) |\n",
    "| `experiment_group` | `string` | control / variant split for the experiment (expected to be equal 50/50) |\n",
    "\n",
    "<br>"
   ]
  },
  {
   "cell_type": "markdown",
   "id": "ffe64b99",
   "metadata": {},
   "source": [
    "## Load and Explore the Data"
   ]
  },
  {
   "cell_type": "code",
   "execution_count": 2,
   "id": "6cb1e844",
   "metadata": {},
   "outputs": [],
   "source": [
    "import pandas as pd\n",
    "from scipy.stats import chisquare\n"
   ]
  },
  {
   "cell_type": "code",
   "execution_count": 3,
   "id": "d6f8588e",
   "metadata": {},
   "outputs": [
    {
     "name": "stdout",
     "output_type": "stream",
     "text": [
      "Sessions shape: (16981, 5)\n",
      "Users shape: (10000, 2)\n"
     ]
    },
    {
     "data": {
      "text/html": [
       "<div>\n",
       "<style scoped>\n",
       "    .dataframe tbody tr th:only-of-type {\n",
       "        vertical-align: middle;\n",
       "    }\n",
       "\n",
       "    .dataframe tbody tr th {\n",
       "        vertical-align: top;\n",
       "    }\n",
       "\n",
       "    .dataframe thead th {\n",
       "        text-align: right;\n",
       "    }\n",
       "</style>\n",
       "<table border=\"1\" class=\"dataframe\">\n",
       "  <thead>\n",
       "    <tr style=\"text-align: right;\">\n",
       "      <th></th>\n",
       "      <th>session_id</th>\n",
       "      <th>user_id</th>\n",
       "      <th>session_start_timestamp</th>\n",
       "      <th>booking_timestamp</th>\n",
       "      <th>time_to_booking</th>\n",
       "    </tr>\n",
       "  </thead>\n",
       "  <tbody>\n",
       "    <tr>\n",
       "      <th>0</th>\n",
       "      <td>CP0lbAGnb5UNi3Ut</td>\n",
       "      <td>TcCIMrtQ75wHGXVj</td>\n",
       "      <td>2025-01-26 20:02:39.177358627</td>\n",
       "      <td>NaN</td>\n",
       "      <td>NaN</td>\n",
       "    </tr>\n",
       "    <tr>\n",
       "      <th>1</th>\n",
       "      <td>UQAjrPYair63L1p8</td>\n",
       "      <td>TcCIMrtQ75wHGXVj</td>\n",
       "      <td>2025-01-20 16:12:51.536912203</td>\n",
       "      <td>NaN</td>\n",
       "      <td>NaN</td>\n",
       "    </tr>\n",
       "    <tr>\n",
       "      <th>2</th>\n",
       "      <td>9zQrAPxV5oi2SzSa</td>\n",
       "      <td>TcCIMrtQ75wHGXVj</td>\n",
       "      <td>2025-01-28 03:46:40.839362144</td>\n",
       "      <td>NaN</td>\n",
       "      <td>NaN</td>\n",
       "    </tr>\n",
       "    <tr>\n",
       "      <th>3</th>\n",
       "      <td>kkrz1M5vxrQ8wXRZ</td>\n",
       "      <td>GUGVzto9KGqeX3dc</td>\n",
       "      <td>2025-01-25 02:48:50.953303099</td>\n",
       "      <td>NaN</td>\n",
       "      <td>NaN</td>\n",
       "    </tr>\n",
       "    <tr>\n",
       "      <th>4</th>\n",
       "      <td>AKDXZWWFYKViHC27</td>\n",
       "      <td>NaN</td>\n",
       "      <td>2025-01-28 00:30:49.979124308</td>\n",
       "      <td>NaN</td>\n",
       "      <td>NaN</td>\n",
       "    </tr>\n",
       "  </tbody>\n",
       "</table>\n",
       "</div>"
      ],
      "text/plain": [
       "         session_id           user_id        session_start_timestamp  \\\n",
       "0  CP0lbAGnb5UNi3Ut  TcCIMrtQ75wHGXVj  2025-01-26 20:02:39.177358627   \n",
       "1  UQAjrPYair63L1p8  TcCIMrtQ75wHGXVj  2025-01-20 16:12:51.536912203   \n",
       "2  9zQrAPxV5oi2SzSa  TcCIMrtQ75wHGXVj  2025-01-28 03:46:40.839362144   \n",
       "3  kkrz1M5vxrQ8wXRZ  GUGVzto9KGqeX3dc  2025-01-25 02:48:50.953303099   \n",
       "4  AKDXZWWFYKViHC27               NaN  2025-01-28 00:30:49.979124308   \n",
       "\n",
       "  booking_timestamp  time_to_booking  \n",
       "0               NaN              NaN  \n",
       "1               NaN              NaN  \n",
       "2               NaN              NaN  \n",
       "3               NaN              NaN  \n",
       "4               NaN              NaN  "
      ]
     },
     "execution_count": 3,
     "metadata": {},
     "output_type": "execute_result"
    }
   ],
   "source": [
    "# Load data\n",
    "sessions = pd.read_csv(\"sessions_data.csv\")\n",
    "users = pd.read_csv(\"users_data.csv\")\n",
    "\n",
    "# Basic shape and summary\n",
    "print(\"Sessions shape:\", sessions.shape)\n",
    "print(\"Users shape:\", users.shape)\n",
    "\n",
    "sessions.head()"
   ]
  },
  {
   "cell_type": "code",
   "execution_count": null,
   "id": "e68d6136-25ec-4aaa-9aa3-a92794324cec",
   "metadata": {
    "executionCancelledAt": null,
    "executionTime": 28,
    "lastExecutedAt": 1749998039576,
    "lastExecutedByKernel": "b6f0aa78-0e66-4eb6-8b70-ea22aaa0744c",
    "lastScheduledRunId": null,
    "lastSuccessfullyExecutedCode": "sessions.sample(5)",
    "outputsMetadata": {
     "0": {
      "height": 550,
      "tableState": {
       "customFilter": {
        "const": {
         "type": "boolean",
         "valid": true,
         "value": true
        },
        "id": "a9bbce90-820b-4468-915a-1a18b632061b",
        "nodeType": "const"
       },
       "quickFilterText": ""
      },
      "type": "dataFrame"
     }
    }
   },
   "outputs": [
    {
     "data": {
      "application/com.datacamp.data-table.v2+json": {
       "table": {
        "data": {
         "booking_timestamp": [
          null,
          null,
          "2025-01-09 04:10:44.720565415",
          null,
          null
         ],
         "index": [
          11090,
          6569,
          10789,
          5311,
          3701
         ],
         "session_id": [
          "4k74FhVQWaoywDoK",
          "dITnpSt5913w7XGf",
          "hxr220gEcZAyFuyn",
          "0t0d0gCzAJgj7ETc",
          "1YwrjJRv7ZAiZN35"
         ],
         "session_start_timestamp": [
          "2025-01-30 23:52:11.066958427",
          "2025-01-21 14:09:52.903163433",
          "2025-01-09 03:40:10.807778835",
          "2025-01-12 15:27:40.776384830",
          "2025-01-30 08:34:36.561965942"
         ],
         "time_to_booking": [
          null,
          null,
          30.5652131097,
          null,
          null
         ],
         "user_id": [
          "Xqpaq9eViasx2NCf",
          "bvwKD3l7YKPs9Bv2",
          "c52fjq9hVGedmjTM",
          null,
          "B4xFUGjciMKG4G1C"
         ]
        },
        "schema": {
         "fields": [
          {
           "name": "index",
           "type": "integer"
          },
          {
           "name": "session_id",
           "type": "string"
          },
          {
           "name": "user_id",
           "type": "string"
          },
          {
           "name": "session_start_timestamp",
           "type": "string"
          },
          {
           "name": "booking_timestamp",
           "type": "string"
          },
          {
           "name": "time_to_booking",
           "type": "number"
          }
         ],
         "pandas_version": "1.4.0",
         "primaryKey": [
          "index"
         ]
        }
       },
       "total_rows": 5,
       "truncation_type": null
      },
      "text/html": [
       "<div>\n",
       "<style scoped>\n",
       "    .dataframe tbody tr th:only-of-type {\n",
       "        vertical-align: middle;\n",
       "    }\n",
       "\n",
       "    .dataframe tbody tr th {\n",
       "        vertical-align: top;\n",
       "    }\n",
       "\n",
       "    .dataframe thead th {\n",
       "        text-align: right;\n",
       "    }\n",
       "</style>\n",
       "<table border=\"1\" class=\"dataframe\">\n",
       "  <thead>\n",
       "    <tr style=\"text-align: right;\">\n",
       "      <th></th>\n",
       "      <th>session_id</th>\n",
       "      <th>user_id</th>\n",
       "      <th>session_start_timestamp</th>\n",
       "      <th>booking_timestamp</th>\n",
       "      <th>time_to_booking</th>\n",
       "    </tr>\n",
       "  </thead>\n",
       "  <tbody>\n",
       "    <tr>\n",
       "      <th>11090</th>\n",
       "      <td>4k74FhVQWaoywDoK</td>\n",
       "      <td>Xqpaq9eViasx2NCf</td>\n",
       "      <td>2025-01-30 23:52:11.066958427</td>\n",
       "      <td>NaN</td>\n",
       "      <td>NaN</td>\n",
       "    </tr>\n",
       "    <tr>\n",
       "      <th>6569</th>\n",
       "      <td>dITnpSt5913w7XGf</td>\n",
       "      <td>bvwKD3l7YKPs9Bv2</td>\n",
       "      <td>2025-01-21 14:09:52.903163433</td>\n",
       "      <td>NaN</td>\n",
       "      <td>NaN</td>\n",
       "    </tr>\n",
       "    <tr>\n",
       "      <th>10789</th>\n",
       "      <td>hxr220gEcZAyFuyn</td>\n",
       "      <td>c52fjq9hVGedmjTM</td>\n",
       "      <td>2025-01-09 03:40:10.807778835</td>\n",
       "      <td>2025-01-09 04:10:44.720565415</td>\n",
       "      <td>30.565213</td>\n",
       "    </tr>\n",
       "    <tr>\n",
       "      <th>5311</th>\n",
       "      <td>0t0d0gCzAJgj7ETc</td>\n",
       "      <td>NaN</td>\n",
       "      <td>2025-01-12 15:27:40.776384830</td>\n",
       "      <td>NaN</td>\n",
       "      <td>NaN</td>\n",
       "    </tr>\n",
       "    <tr>\n",
       "      <th>3701</th>\n",
       "      <td>1YwrjJRv7ZAiZN35</td>\n",
       "      <td>B4xFUGjciMKG4G1C</td>\n",
       "      <td>2025-01-30 08:34:36.561965942</td>\n",
       "      <td>NaN</td>\n",
       "      <td>NaN</td>\n",
       "    </tr>\n",
       "  </tbody>\n",
       "</table>\n",
       "</div>"
      ],
      "text/plain": [
       "             session_id  ... time_to_booking\n",
       "11090  4k74FhVQWaoywDoK  ...             NaN\n",
       "6569   dITnpSt5913w7XGf  ...             NaN\n",
       "10789  hxr220gEcZAyFuyn  ...       30.565213\n",
       "5311   0t0d0gCzAJgj7ETc  ...             NaN\n",
       "3701   1YwrjJRv7ZAiZN35  ...             NaN\n",
       "\n",
       "[5 rows x 5 columns]"
      ]
     },
     "execution_count": 5,
     "metadata": {
      "application/com.datacamp.data-table.v2+json": {
       "status": "success"
      }
     },
     "output_type": "execute_result"
    }
   ],
   "source": [
    "# Display a sample of 5 rows from the sessions DataFrame\n",
    "sessions.sample(5)"
   ]
  },
  {
   "cell_type": "code",
   "execution_count": null,
   "id": "7c324a26-44fc-4857-ba61-0a4f7e52f2be",
   "metadata": {
    "executionCancelledAt": null,
    "executionTime": 20,
    "lastExecutedAt": 1749998042426,
    "lastExecutedByKernel": "b6f0aa78-0e66-4eb6-8b70-ea22aaa0744c",
    "lastScheduledRunId": null,
    "lastSuccessfullyExecutedCode": "users.sample(5)",
    "outputsMetadata": {
     "0": {
      "height": 550,
      "tableState": {
       "customFilter": {
        "const": {
         "type": "boolean",
         "valid": true,
         "value": true
        },
        "id": "a9bbce90-820b-4468-915a-1a18b632061b",
        "nodeType": "const"
       },
       "quickFilterText": ""
      },
      "type": "dataFrame"
     }
    }
   },
   "outputs": [
    {
     "data": {
      "application/com.datacamp.data-table.v2+json": {
       "table": {
        "data": {
         "experiment_group": [
          "variant",
          "control",
          "variant",
          "control",
          "control"
         ],
         "index": [
          3330,
          4529,
          9152,
          8289,
          8066
         ],
         "user_id": [
          "iQKihLml2vO46cOk",
          "TC5dXZLjHb0koU2D",
          "WbR4kXdnU3JW6JMF",
          "F99f5uhFRiXxvHUS",
          "InA0GOowK612AoBs"
         ]
        },
        "schema": {
         "fields": [
          {
           "name": "index",
           "type": "integer"
          },
          {
           "name": "user_id",
           "type": "string"
          },
          {
           "name": "experiment_group",
           "type": "string"
          }
         ],
         "pandas_version": "1.4.0",
         "primaryKey": [
          "index"
         ]
        }
       },
       "total_rows": 5,
       "truncation_type": null
      },
      "text/html": [
       "<div>\n",
       "<style scoped>\n",
       "    .dataframe tbody tr th:only-of-type {\n",
       "        vertical-align: middle;\n",
       "    }\n",
       "\n",
       "    .dataframe tbody tr th {\n",
       "        vertical-align: top;\n",
       "    }\n",
       "\n",
       "    .dataframe thead th {\n",
       "        text-align: right;\n",
       "    }\n",
       "</style>\n",
       "<table border=\"1\" class=\"dataframe\">\n",
       "  <thead>\n",
       "    <tr style=\"text-align: right;\">\n",
       "      <th></th>\n",
       "      <th>user_id</th>\n",
       "      <th>experiment_group</th>\n",
       "    </tr>\n",
       "  </thead>\n",
       "  <tbody>\n",
       "    <tr>\n",
       "      <th>3330</th>\n",
       "      <td>iQKihLml2vO46cOk</td>\n",
       "      <td>variant</td>\n",
       "    </tr>\n",
       "    <tr>\n",
       "      <th>4529</th>\n",
       "      <td>TC5dXZLjHb0koU2D</td>\n",
       "      <td>control</td>\n",
       "    </tr>\n",
       "    <tr>\n",
       "      <th>9152</th>\n",
       "      <td>WbR4kXdnU3JW6JMF</td>\n",
       "      <td>variant</td>\n",
       "    </tr>\n",
       "    <tr>\n",
       "      <th>8289</th>\n",
       "      <td>F99f5uhFRiXxvHUS</td>\n",
       "      <td>control</td>\n",
       "    </tr>\n",
       "    <tr>\n",
       "      <th>8066</th>\n",
       "      <td>InA0GOowK612AoBs</td>\n",
       "      <td>control</td>\n",
       "    </tr>\n",
       "  </tbody>\n",
       "</table>\n",
       "</div>"
      ],
      "text/plain": [
       "               user_id experiment_group\n",
       "3330  iQKihLml2vO46cOk          variant\n",
       "4529  TC5dXZLjHb0koU2D          control\n",
       "9152  WbR4kXdnU3JW6JMF          variant\n",
       "8289  F99f5uhFRiXxvHUS          control\n",
       "8066  InA0GOowK612AoBs          control"
      ]
     },
     "execution_count": 6,
     "metadata": {
      "application/com.datacamp.data-table.v2+json": {
       "status": "success"
      }
     },
     "output_type": "execute_result"
    }
   ],
   "source": [
    "# Display a sample of 5 rows from the users DataFrame\n",
    "users.sample(5)"
   ]
  },
  {
   "cell_type": "markdown",
   "id": "c6ad5a67",
   "metadata": {},
   "source": [
    "## Feature Engineering"
   ]
  },
  {
   "cell_type": "markdown",
   "id": "9f5e62fa",
   "metadata": {},
   "source": [
    "### Merging the data i.e sessions and users"
   ]
  },
  {
   "cell_type": "code",
   "execution_count": null,
   "id": "759132b1",
   "metadata": {},
   "outputs": [
    {
     "name": "stdout",
     "output_type": "stream",
     "text": [
      "Merged data shape: (15283, 6)\n"
     ]
    },
    {
     "data": {
      "text/html": [
       "<div>\n",
       "<style scoped>\n",
       "    .dataframe tbody tr th:only-of-type {\n",
       "        vertical-align: middle;\n",
       "    }\n",
       "\n",
       "    .dataframe tbody tr th {\n",
       "        vertical-align: top;\n",
       "    }\n",
       "\n",
       "    .dataframe thead th {\n",
       "        text-align: right;\n",
       "    }\n",
       "</style>\n",
       "<table border=\"1\" class=\"dataframe\">\n",
       "  <thead>\n",
       "    <tr style=\"text-align: right;\">\n",
       "      <th></th>\n",
       "      <th>session_id</th>\n",
       "      <th>user_id</th>\n",
       "      <th>session_start_timestamp</th>\n",
       "      <th>booking_timestamp</th>\n",
       "      <th>time_to_booking</th>\n",
       "      <th>experiment_group</th>\n",
       "    </tr>\n",
       "  </thead>\n",
       "  <tbody>\n",
       "    <tr>\n",
       "      <th>1467</th>\n",
       "      <td>Uic34gYhSo5w4drR</td>\n",
       "      <td>B5fqVp2GvzHWmRUw</td>\n",
       "      <td>2025-01-06 02:12:16.887342453</td>\n",
       "      <td>NaN</td>\n",
       "      <td>NaN</td>\n",
       "      <td>control</td>\n",
       "    </tr>\n",
       "    <tr>\n",
       "      <th>13680</th>\n",
       "      <td>XAbnWfVqF4XuEeCn</td>\n",
       "      <td>L5kLByintrDfXAoQ</td>\n",
       "      <td>2025-01-17 09:41:55.526751757</td>\n",
       "      <td>NaN</td>\n",
       "      <td>NaN</td>\n",
       "      <td>control</td>\n",
       "    </tr>\n",
       "    <tr>\n",
       "      <th>8800</th>\n",
       "      <td>x2AjUFwI2lzALq3X</td>\n",
       "      <td>DXPY3KHgfwM9YE2v</td>\n",
       "      <td>2025-01-03 23:04:05.151547909</td>\n",
       "      <td>NaN</td>\n",
       "      <td>NaN</td>\n",
       "      <td>variant</td>\n",
       "    </tr>\n",
       "    <tr>\n",
       "      <th>7299</th>\n",
       "      <td>Vuo3yAD4BygHOBjr</td>\n",
       "      <td>wBTiZzHz0UmScC6Q</td>\n",
       "      <td>2025-01-26 14:33:20.267345190</td>\n",
       "      <td>2025-01-26 14:43:09.776522009</td>\n",
       "      <td>9.825153</td>\n",
       "      <td>variant</td>\n",
       "    </tr>\n",
       "    <tr>\n",
       "      <th>13170</th>\n",
       "      <td>ajMn0V2VKfjZUzV1</td>\n",
       "      <td>VXh5N3gqgIj3mdQu</td>\n",
       "      <td>2025-01-05 22:53:07.663467646</td>\n",
       "      <td>NaN</td>\n",
       "      <td>NaN</td>\n",
       "      <td>variant</td>\n",
       "    </tr>\n",
       "  </tbody>\n",
       "</table>\n",
       "</div>"
      ],
      "text/plain": [
       "             session_id           user_id        session_start_timestamp  \\\n",
       "1467   Uic34gYhSo5w4drR  B5fqVp2GvzHWmRUw  2025-01-06 02:12:16.887342453   \n",
       "13680  XAbnWfVqF4XuEeCn  L5kLByintrDfXAoQ  2025-01-17 09:41:55.526751757   \n",
       "8800   x2AjUFwI2lzALq3X  DXPY3KHgfwM9YE2v  2025-01-03 23:04:05.151547909   \n",
       "7299   Vuo3yAD4BygHOBjr  wBTiZzHz0UmScC6Q  2025-01-26 14:33:20.267345190   \n",
       "13170  ajMn0V2VKfjZUzV1  VXh5N3gqgIj3mdQu  2025-01-05 22:53:07.663467646   \n",
       "\n",
       "                   booking_timestamp  time_to_booking experiment_group  \n",
       "1467                             NaN              NaN          control  \n",
       "13680                            NaN              NaN          control  \n",
       "8800                             NaN              NaN          variant  \n",
       "7299   2025-01-26 14:43:09.776522009         9.825153          variant  \n",
       "13170                            NaN              NaN          variant  "
      ]
     },
     "execution_count": 4,
     "metadata": {},
     "output_type": "execute_result"
    }
   ],
   "source": [
    "# Merging sessions and users\n",
    "merged_data = pd.merge(sessions, users, on=\"user_id\", how=\"inner\")\n",
    "# Check the merged data\n",
    "print(\"Merged data shape:\", merged_data.shape) \n",
    "# Display a sample of 5 rows from the merged DataFrame\n",
    "merged_data.sample(5)"
   ]
  },
  {
   "cell_type": "code",
   "execution_count": 6,
   "id": "269c524b",
   "metadata": {},
   "outputs": [],
   "source": [
    "# Create conversion column\n",
    "merged_data['conversion'] = merged_data['booking_timestamp'].notnull().astype(int)"
   ]
  },
  {
   "cell_type": "code",
   "execution_count": 8,
   "id": "e3632a1d",
   "metadata": {},
   "outputs": [
    {
     "data": {
      "text/html": [
       "<div>\n",
       "<style scoped>\n",
       "    .dataframe tbody tr th:only-of-type {\n",
       "        vertical-align: middle;\n",
       "    }\n",
       "\n",
       "    .dataframe tbody tr th {\n",
       "        vertical-align: top;\n",
       "    }\n",
       "\n",
       "    .dataframe thead th {\n",
       "        text-align: right;\n",
       "    }\n",
       "</style>\n",
       "<table border=\"1\" class=\"dataframe\">\n",
       "  <thead>\n",
       "    <tr style=\"text-align: right;\">\n",
       "      <th></th>\n",
       "      <th>session_id</th>\n",
       "      <th>user_id</th>\n",
       "      <th>session_start_timestamp</th>\n",
       "      <th>booking_timestamp</th>\n",
       "      <th>time_to_booking</th>\n",
       "      <th>experiment_group</th>\n",
       "      <th>conversion</th>\n",
       "    </tr>\n",
       "  </thead>\n",
       "  <tbody>\n",
       "    <tr>\n",
       "      <th>0</th>\n",
       "      <td>CP0lbAGnb5UNi3Ut</td>\n",
       "      <td>TcCIMrtQ75wHGXVj</td>\n",
       "      <td>2025-01-26 20:02:39.177358627</td>\n",
       "      <td>NaN</td>\n",
       "      <td>NaN</td>\n",
       "      <td>variant</td>\n",
       "      <td>0</td>\n",
       "    </tr>\n",
       "    <tr>\n",
       "      <th>1</th>\n",
       "      <td>UQAjrPYair63L1p8</td>\n",
       "      <td>TcCIMrtQ75wHGXVj</td>\n",
       "      <td>2025-01-20 16:12:51.536912203</td>\n",
       "      <td>NaN</td>\n",
       "      <td>NaN</td>\n",
       "      <td>variant</td>\n",
       "      <td>0</td>\n",
       "    </tr>\n",
       "    <tr>\n",
       "      <th>2</th>\n",
       "      <td>9zQrAPxV5oi2SzSa</td>\n",
       "      <td>TcCIMrtQ75wHGXVj</td>\n",
       "      <td>2025-01-28 03:46:40.839362144</td>\n",
       "      <td>NaN</td>\n",
       "      <td>NaN</td>\n",
       "      <td>variant</td>\n",
       "      <td>0</td>\n",
       "    </tr>\n",
       "    <tr>\n",
       "      <th>3</th>\n",
       "      <td>kkrz1M5vxrQ8wXRZ</td>\n",
       "      <td>GUGVzto9KGqeX3dc</td>\n",
       "      <td>2025-01-25 02:48:50.953303099</td>\n",
       "      <td>NaN</td>\n",
       "      <td>NaN</td>\n",
       "      <td>variant</td>\n",
       "      <td>0</td>\n",
       "    </tr>\n",
       "    <tr>\n",
       "      <th>4</th>\n",
       "      <td>ABZZFrwItZAPdYGP</td>\n",
       "      <td>v2EBIHmOdQfalI6k</td>\n",
       "      <td>2025-01-11 11:41:36.912253618</td>\n",
       "      <td>NaN</td>\n",
       "      <td>NaN</td>\n",
       "      <td>variant</td>\n",
       "      <td>0</td>\n",
       "    </tr>\n",
       "  </tbody>\n",
       "</table>\n",
       "</div>"
      ],
      "text/plain": [
       "         session_id           user_id        session_start_timestamp  \\\n",
       "0  CP0lbAGnb5UNi3Ut  TcCIMrtQ75wHGXVj  2025-01-26 20:02:39.177358627   \n",
       "1  UQAjrPYair63L1p8  TcCIMrtQ75wHGXVj  2025-01-20 16:12:51.536912203   \n",
       "2  9zQrAPxV5oi2SzSa  TcCIMrtQ75wHGXVj  2025-01-28 03:46:40.839362144   \n",
       "3  kkrz1M5vxrQ8wXRZ  GUGVzto9KGqeX3dc  2025-01-25 02:48:50.953303099   \n",
       "4  ABZZFrwItZAPdYGP  v2EBIHmOdQfalI6k  2025-01-11 11:41:36.912253618   \n",
       "\n",
       "  booking_timestamp  time_to_booking experiment_group  conversion  \n",
       "0               NaN              NaN          variant           0  \n",
       "1               NaN              NaN          variant           0  \n",
       "2               NaN              NaN          variant           0  \n",
       "3               NaN              NaN          variant           0  \n",
       "4               NaN              NaN          variant           0  "
      ]
     },
     "execution_count": 8,
     "metadata": {},
     "output_type": "execute_result"
    }
   ],
   "source": [
    "merged_data.head()"
   ]
  },
  {
   "cell_type": "code",
   "execution_count": 7,
   "id": "809a2427",
   "metadata": {},
   "outputs": [
    {
     "name": "stdout",
     "output_type": "stream",
     "text": [
      "Group distribution:\n",
      " experiment_group\n",
      "variant    0.500752\n",
      "control    0.499248\n",
      "Name: proportion, dtype: float64\n"
     ]
    }
   ],
   "source": [
    "# Check distribution of groups\n",
    "group_counts = merged_data['experiment_group'].value_counts(normalize=True)\n",
    "print(\"Group distribution:\\n\", group_counts)\n"
   ]
  },
  {
   "cell_type": "markdown",
   "id": "4bc8204d",
   "metadata": {},
   "source": [
    "## Exploratory Data Analysis"
   ]
  },
  {
   "cell_type": "code",
   "execution_count": 11,
   "id": "02b8e15c",
   "metadata": {},
   "outputs": [
    {
     "name": "stdout",
     "output_type": "stream",
     "text": [
      "Conversion Rates:\n",
      " experiment_group\n",
      "control    0.159240\n",
      "variant    0.181889\n",
      "Name: conversion, dtype: float64\n"
     ]
    }
   ],
   "source": [
    "import seaborn as sns\n",
    "import matplotlib.pyplot as plt\n",
    "\n",
    "# Conversion rate per group\n",
    "conversion_rates = merged_data.groupby('experiment_group')['conversion'].mean()\n",
    "print(\"Conversion Rates:\\n\", conversion_rates)\n",
    "\n"
   ]
  },
  {
   "cell_type": "code",
   "execution_count": 12,
   "id": "2d02e70e",
   "metadata": {},
   "outputs": [
    {
     "name": "stdout",
     "output_type": "stream",
     "text": [
      "Time to Booking Stats:\n",
      "                    count       mean       std       min        25%        50%  \\\n",
      "experiment_group                                                                \n",
      "control           1215.0  15.012404  4.812052  4.969382  11.562347  14.326651   \n",
      "variant           1392.0  14.894029  4.950791  4.563510  11.300591  14.162334   \n",
      "\n",
      "                        75%        max  \n",
      "experiment_group                        \n",
      "control           17.745466  40.616355  \n",
      "variant           17.728059  46.988466  \n"
     ]
    }
   ],
   "source": [
    "# Time to booking stats\n",
    "time_booking_stats = merged_data[merged_data['conversion'] == 1].groupby('experiment_group')['time_to_booking'].describe()\n",
    "print(\"Time to Booking Stats:\\n\", time_booking_stats)"
   ]
  },
  {
   "cell_type": "code",
   "execution_count": 13,
   "id": "455d7e76",
   "metadata": {},
   "outputs": [
    {
     "data": {
      "image/png": "[encoded data removed]",
      "text/plain": [
       "<Figure size 640x480 with 1 Axes>"
      ]
     },
     "metadata": {},
     "output_type": "display_data"
    }
   ],
   "source": [
    "# Boxplot for time to booking\n",
    "sns.boxplot(data=merged_data[merged_data['conversion'] == 1], x='experiment_group', y='time_to_booking')\n",
    "plt.title(\"Time to Booking by Group\")\n",
    "plt.show()"
   ]
  },
  {
   "cell_type": "markdown",
   "id": "182fe6ee",
   "metadata": {},
   "source": [
    "### Booking Rate by Session Hour (Temporal Behavior)"
   ]
  },
  {
   "cell_type": "code",
   "execution_count": null,
   "id": "6fc2cbf0",
   "metadata": {},
   "outputs": [
    {
     "data": {
      "image/png": "[encoded data removed]",
      "text/plain": [
       "<Figure size 640x480 with 1 Axes>"
      ]
     },
     "metadata": {},
     "output_type": "display_data"
    }
   ],
   "source": [
    "# You can extract session hour and analyze booking likelihood across the day\n",
    "# Convert to datetime\n",
    "merged_data['session_start_timestamp'] = pd.to_datetime(merged_data['session_start_timestamp'])\n",
    "merged_data['session_hour'] = merged_data['session_start_timestamp'].dt.hour\n",
    "\n",
    "# Conversion rate by hour\n",
    "hourly = merged_data.groupby(['session_hour', 'experiment_group'])['conversion'].mean().reset_index()\n",
    "\n",
    "# Plot\n",
    "sns.lineplot(data=hourly, x='session_hour', y='conversion', hue='experiment_group', marker='o')\n",
    "plt.title(\"Conversion Rate by Session Hour\")\n",
    "plt.xlabel(\"Hour of Day\")\n",
    "plt.ylabel(\"Conversion Rate\")\n",
    "plt.grid(True)\n",
    "plt.show()\n"
   ]
  },
  {
   "cell_type": "markdown",
   "id": "c00f88a8",
   "metadata": {},
   "source": [
    "Analyzed conversion rates across the 24-hour day for both control and variant groups.\n",
    "\n",
    "- The **variant group consistently outperformed the control** during most hours.\n",
    "- The most notable uplift is observed during:\n",
    "  - Early morning (0–3 AM)\n",
    "  - Midday (11–14)\n",
    "  - Evening (17–20), with a clear peak around hour 18.\n",
    "- The control group remained relatively flat with occasional dips, while the variant showed **greater consistency and higher engagement**.\n",
    "\n",
    "This suggests the new search ranking algorithm may be particularly effective during **high-intent periods**, such as lunch breaks and post-work hours — potentially due to better surfacing of relevant options.\n"
   ]
  },
  {
   "cell_type": "markdown",
   "id": "2846acf8",
   "metadata": {},
   "source": [
    "### Conversion Rate by User Type (Repeat vs. New)"
   ]
  },
  {
   "cell_type": "code",
   "execution_count": 15,
   "id": "ae6be94d",
   "metadata": {},
   "outputs": [
    {
     "data": {
      "image/png": "[encoded data removed]",
      "text/plain": [
       "<Figure size 640x480 with 1 Axes>"
      ]
     },
     "metadata": {},
     "output_type": "display_data"
    }
   ],
   "source": [
    "# Count sessions per user\n",
    "user_session_counts = merged_data['user_id'].value_counts()\n",
    "merged_data['is_repeat_user'] = merged_data['user_id'].map(user_session_counts) > 1\n",
    "\n",
    "# Conversion rate by repeat vs. new\n",
    "repeat_summary = merged_data.groupby(['is_repeat_user', 'experiment_group'])['conversion'].mean().reset_index()\n",
    "\n",
    "sns.barplot(data=repeat_summary, x='is_repeat_user', y='conversion', hue='experiment_group')\n",
    "plt.title(\"Conversion Rate: Repeat vs. New Users\")\n",
    "plt.xlabel(\"Is Repeat User\")\n",
    "plt.ylabel(\"Conversion Rate\")\n",
    "plt.show()\n"
   ]
  },
  {
   "cell_type": "markdown",
   "id": "b9054f2b",
   "metadata": {},
   "source": [
    "\n",
    "Grouped users based on whether they had multiple sessions (`Repeat User = True`) or just one.\n",
    "\n",
    "- The variant group outperformed the control group for **both new and repeat users**.\n",
    "- The **conversion uplift is higher among new users**, suggesting the new search ranking algorithm is particularly effective at helping first-time users book faster.\n",
    "\n",
    "This insight can help the product team tailor experiences differently for first-time visitors vs. loyal users.\n"
   ]
  },
  {
   "cell_type": "markdown",
   "id": "e9163ead",
   "metadata": {},
   "source": [
    "## Sample Ratio Mismatch (SRM) Check"
   ]
  },
  {
   "cell_type": "markdown",
   "id": "e27223db",
   "metadata": {},
   "source": [
    "Before running the experiment analysis, we verify whether the control and variant groups are properly balanced.\n",
    "\n",
    "If the observed split is far from 50/50, the A/B test might be biased.\n",
    "\n",
    "We use a **Chi-square test** to check if the observed group sizes significantly deviate from expected (50/50 split).\n",
    "\n",
    "Interpretation:\n",
    "If p < 0.05, it’s likely that randomization failed (stop here).\n",
    "\n",
    "If p > 0.05, you can trust the random assignment (proceed).\n"
   ]
  },
  {
   "cell_type": "code",
   "execution_count": 16,
   "id": "cb37c50b",
   "metadata": {},
   "outputs": [
    {
     "name": "stdout",
     "output_type": "stream",
     "text": [
      "SRM Check:\n",
      "Observed counts:\n",
      "experiment_group\n",
      "variant    7653\n",
      "control    7630\n",
      "Name: count, dtype: int64\n",
      "Chi-square p-value: 0.8524\n"
     ]
    }
   ],
   "source": [
    "from scipy.stats import chisquare\n",
    "\n",
    "# Group counts\n",
    "groups_count = merged_data['experiment_group'].value_counts()\n",
    "n = merged_data.shape[0]\n",
    "\n",
    "# Chi-square test for equal split\n",
    "srm_chi2_stat, srm_chi2_pval = chisquare(f_obs=groups_count, f_exp=(n / 2, n / 2))\n",
    "srm_chi2_pval = round(srm_chi2_pval, 4)\n",
    "\n",
    "print(\"SRM Check:\")\n",
    "print(f\"Observed counts:\\n{groups_count}\")\n",
    "print(f\"Chi-square p-value: {srm_chi2_pval}\")\n"
   ]
  },
  {
   "cell_type": "markdown",
   "id": "3b0417c5",
   "metadata": {},
   "source": [
    "Chi-square p-value: 0.8524  is greater that 0.05, hence we can trust the random assignment"
   ]
  },
  {
   "cell_type": "markdown",
   "id": "5773b803",
   "metadata": {},
   "source": [
    "## Effect Analysis on the metrics"
   ]
  },
  {
   "cell_type": "markdown",
   "id": "441e8ee4",
   "metadata": {},
   "source": [
    "\n",
    "We now assess whether the variant version of the search ranking algorithm significantly outperforms the control using two metrics:\n",
    "- **Primary Metric**: Conversion Rate (binary)\n",
    "- **Guardrail Metric**: Time to Booking (continuous)\n",
    "\n",
    "Our decision will be based on:\n",
    "- A significant improvement in conversion (p-value < 0.10)\n",
    "- No significant increase in time to booking (p-value > 0.10)\n"
   ]
  },
  {
   "cell_type": "code",
   "execution_count": 34,
   "id": "2e598112",
   "metadata": {},
   "outputs": [],
   "source": [
    "# Set alpha and test directions\n",
    "alpha = 0.05  # 5% significance level\n",
    "test_direction_primary = 'two-sided'  # two-tailed z-test\n",
    "test_direction_guardrail = 'two-sided'  # safer for time metric\n"
   ]
  },
  {
   "cell_type": "markdown",
   "id": "f974dc33",
   "metadata": {},
   "source": [
    "### Z-Test for Proportions (Conversion Rate)"
   ]
  },
  {
   "cell_type": "markdown",
   "id": "5b63d731",
   "metadata": {},
   "source": [
    "Why?\n",
    "Conversion is a binary metric (booked or not → 0 or 1).\n",
    "\n",
    "We're comparing two proportions (control vs. variant conversion rates).\n",
    "\n",
    "Z-test for proportions is the standard method when sample sizes are large (n > 30 per group).\n",
    "\n",
    "When to use:\n",
    "Binary outcome (0/1)\n",
    "\n",
    "Two independent groups\n",
    "\n",
    "Testing whether conversion rate difference is statistically significant\n",
    "\n",
    "Interpretation:\n",
    "If p < alpha (0.1) → there is a significant difference.\n",
    "\n",
    "If effect_size > 0 → variant is performing better than control."
   ]
  },
  {
   "cell_type": "code",
   "execution_count": 28,
   "id": "784d7f88",
   "metadata": {},
   "outputs": [],
   "source": [
    "def estimate_effect_size(df, metric):\n",
    "    avg_metric = df.groupby('experiment_group')[metric].mean()\n",
    "    return avg_metric['variant'] / avg_metric['control'] - 1"
   ]
  },
  {
   "cell_type": "markdown",
   "id": "f249b654",
   "metadata": {},
   "source": [
    "### EFFECT ANALYSIS - PRIMARY METRIC\n",
    "\n",
    "### Run Z-test for proportions (binary conversion metric)\n",
    "\n",
    "##### We test whether the variant group shows a statistically significant improvement in conversion rate compared to control.\n"
   ]
  },
  {
   "cell_type": "code",
   "execution_count": null,
   "id": "fe30d569",
   "metadata": {},
   "outputs": [
    {
     "name": "stdout",
     "output_type": "stream",
     "text": [
      "\n",
      "Primary Metric (Conversion Rate)\n",
      "Z-statistic: -3.722 | p-value: 0.0002 | Effect size: 0.1422\n"
     ]
    }
   ],
   "source": [
    "from statsmodels.stats.proportion import proportions_ztest\n",
    "\n",
    "# Step 1: Group success counts and sample sizes\n",
    "success_counts = merged_data.groupby('experiment_group')['conversion'].sum().loc[['control', 'variant']]\n",
    "sample_sizes = merged_data['experiment_group'].value_counts().loc[['control', 'variant']]\n",
    "\n",
    "# Step 2: Run z-test for proportions\n",
    "zstat_primary, pval_primary = proportions_ztest(\n",
    "    count=success_counts,\n",
    "    nobs=sample_sizes,\n",
    "    alternative='two-sided'  # Two-tailed test\n",
    ")\n",
    "\n",
    "# Step 3: Round and calculate effect size\n",
    "pval_primary = round(pval_primary, 4)\n",
    "effect_size_primary = round(estimate_effect_size(merged_data, 'conversion'), 4)\n",
    "\n",
    "print(f\"\\nPrimary Metric (Conversion Rate)\")\n",
    "print(f\"Z-statistic: {zstat_primary:.3f} | p-value: {pval_primary} | Effect size: {effect_size_primary}\")\n"
   ]
  },
  {
   "cell_type": "markdown",
   "id": "05212ee5",
   "metadata": {},
   "source": [
    "### Conversion Rate (Z-Test)\n",
    "\n",
    "We conducted a z-test to compare conversion rates between control and variant groups.\n",
    "\n",
    "- P-value: 0.0002\n",
    "- Effect size: +14.2%\n",
    "\n",
    "Result: The conversion rate **significantly increased** in the variant group. This satisfies our primary success criterion.\n"
   ]
  },
  {
   "cell_type": "markdown",
   "id": "2406ec57",
   "metadata": {},
   "source": [
    "### EFFECT ANALYSIS - GUARDRAIL METRIC\n",
    "### T-test on time to booking for control vs variant\n",
    "\n",
    "We ensure the new algorithm does not negatively impact time to booking. \n",
    "\n",
    "We compare average booking time using a **two-sample t-test** for the `time_to_booking` metric."
   ]
  },
  {
   "cell_type": "code",
   "execution_count": 32,
   "id": "9088429a",
   "metadata": {},
   "outputs": [
    {
     "name": "stdout",
     "output_type": "stream",
     "text": [
      "\n",
      "Guardrail metric\n",
      "p-value: 0.5365 | effect size: -0.0079\n"
     ]
    }
   ],
   "source": [
    "from scipy.stats import ttest_ind\n",
    "\n",
    "# Filter only sessions with a booking\n",
    "booked_sessions = merged_data[merged_data['conversion'] == 1]\n",
    "\n",
    "# Split time_to_booking by group\n",
    "time_control = booked_sessions[booked_sessions['experiment_group'] == 'control']['time_to_booking'].dropna()\n",
    "time_variant = booked_sessions[booked_sessions['experiment_group'] == 'variant']['time_to_booking'].dropna()\n",
    "\n",
    "# Run two-sample t-test (equal_var=False is safer in most real-world A/B tests)\n",
    "t_stat_guardrail, pval_guardrail = ttest_ind(time_control, time_variant, equal_var=False)\n",
    "\n",
    "# Round values\n",
    "pval_guardrail = round(pval_guardrail, 4)\n",
    "effect_size_guardrail = estimate_effect_size(merged_data, 'time_to_booking')\n",
    "effect_size_guardrail = round(effect_size_guardrail, 4)\n",
    "\n",
    "print(f\"\\nGuardrail metric\\np-value: {pval_guardrail} | effect size: {effect_size_guardrail}\")\n",
    "\n"
   ]
  },
  {
   "cell_type": "markdown",
   "id": "da44b7b4",
   "metadata": {},
   "source": [
    "### Time to Booking (T-Test)\n",
    "\n",
    "We used a two-sample t-test to compare average time-to-booking among converted users.\n",
    "\n",
    "- P-value: 0.5365 (example)\n",
    "- Effect size: -0.79% (faster in variant)\n",
    "\n",
    "Result: No significant increase in time to booking. This satisfies our **guardrail criterion**.\n"
   ]
  },
  {
   "cell_type": "markdown",
   "id": "dff213f7",
   "metadata": {},
   "source": [
    "### DECISION"
   ]
  },
  {
   "cell_type": "code",
   "execution_count": null,
   "id": "00f65cc6",
   "metadata": {},
   "outputs": [
    {
     "name": "stdout",
     "output_type": "stream",
     "text": [
      "\n",
      "The experiment results are significantly positive and the guardrail metric was not harmed, we are going full on!\n"
     ]
    }
   ],
   "source": [
    "# Primary metric must be statistically significant and show positive effect (increase)\n",
    "criteria_full_on_primary = (pval_primary < alpha) & (effect_size_primary > 0)\n",
    "\n",
    "# Guardrail must either be statistically insignificant or show positive effect (decrease)\n",
    "criteria_full_on_guardrail = (pval_guardrail > alpha) | (effect_size_guardrail <= 0)\n",
    "\n",
    "# Final launch decision based on both metrics\n",
    "if criteria_full_on_primary and criteria_full_on_guardrail:\n",
    "    decision_full_on = 'Yes'\n",
    "    print(\"\\nThe experiment results are significantly positive and the guardrail metric was not harmed, we are going full on!\")\n",
    "else:\n",
    "    decision_full_on = 'No'\n",
    "    print(\"\\nThe experiment does not meet both conditions. Do not proceed with full rollout.\")\n",
    "\n"
   ]
  },
  {
   "cell_type": "markdown",
   "id": "0220319b",
   "metadata": {},
   "source": [
    "### Final Recommendation\n",
    "\n",
    "Based on statistical testing:\n",
    "\n",
    "- Conversion rate improved **significantly**\n",
    "- Time to booking did **not worsen significantly**\n",
    "\n",
    "**Recommendation**: Proceed with a full rollout of the new ranking algorithm.\n"
   ]
  },
  {
   "cell_type": "markdown",
   "id": "53bef76a",
   "metadata": {},
   "source": [
    "#### Thank You!!"
   ]
  }
 ],
 "metadata": {
  "colab": {
   "name": "Welcome to DataCamp Workspaces.ipynb",
   "provenance": []
  },
  "editor": "DataLab",
  "kernelspec": {
   "display_name": "Python (rag)",
   "language": "python",
   "name": "rag"
  },
  "language_info": {
   "codemirror_mode": {
    "name": "ipython",
    "version": 3
   },
   "file_extension": ".py",
   "mimetype": "text/x-python",
   "name": "python",
   "nbconvert_exporter": "python",
   "pygments_lexer": "ipython3",
   "version": "3.9.20"
  }
 },
 "nbformat": 4,
 "nbformat_minor": 5
}
